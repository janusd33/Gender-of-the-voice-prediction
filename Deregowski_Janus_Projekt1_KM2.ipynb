{
 "cells": [
  {
   "cell_type": "markdown",
   "metadata": {},
   "source": [
    "# Projekt 1, kamień milowy 2\n",
    "## Sebastian Deręgowski, Dawid Janus"
   ]
  },
  {
   "cell_type": "code",
   "execution_count": 1,
   "metadata": {},
   "outputs": [],
   "source": [
    "import warnings\n",
    "warnings.filterwarnings('ignore')"
   ]
  },
  {
   "cell_type": "code",
   "execution_count": 2,
   "metadata": {},
   "outputs": [],
   "source": [
    "import requests\n",
    "import pandas as pd\n",
    "import numpy as np\n",
    "import seaborn as sns\n",
    "import matplotlib\n",
    "from matplotlib import pyplot as plt"
   ]
  },
  {
   "cell_type": "code",
   "execution_count": 3,
   "metadata": {},
   "outputs": [],
   "source": [
    "voices_get = requests.get(\"https://api.apispreadsheets.com/api/dataset/gender-voice/\")\n",
    "voices_dict = voices_get.json()\n",
    "voices_df = pd.json_normalize(voices_dict, 'data')"
   ]
  },
  {
   "cell_type": "markdown",
   "metadata": {},
   "source": [
    "## Inżynieria cech"
   ]
  },
  {
   "cell_type": "markdown",
   "metadata": {},
   "source": [
    "Usuwamy kolumny *kurt*, *centroid* oraz *dfrange* ze względu na to, że są parami zkolerowane z innymi kolumnami (wspołczynnik korelacji jest większy niz 0.99) "
   ]
  },
  {
   "cell_type": "code",
   "execution_count": 4,
   "metadata": {},
   "outputs": [
    {
     "data": {
      "text/html": [
       "<div>\n",
       "<style scoped>\n",
       "    .dataframe tbody tr th:only-of-type {\n",
       "        vertical-align: middle;\n",
       "    }\n",
       "\n",
       "    .dataframe tbody tr th {\n",
       "        vertical-align: top;\n",
       "    }\n",
       "\n",
       "    .dataframe thead th {\n",
       "        text-align: right;\n",
       "    }\n",
       "</style>\n",
       "<table border=\"1\" class=\"dataframe\">\n",
       "  <thead>\n",
       "    <tr style=\"text-align: right;\">\n",
       "      <th></th>\n",
       "      <th>meanfreq</th>\n",
       "      <th>sd</th>\n",
       "      <th>median</th>\n",
       "      <th>Q25</th>\n",
       "      <th>Q75</th>\n",
       "      <th>IQR</th>\n",
       "      <th>skew</th>\n",
       "      <th>sp.ent</th>\n",
       "      <th>sfm</th>\n",
       "      <th>mode</th>\n",
       "      <th>meanfun</th>\n",
       "      <th>minfun</th>\n",
       "      <th>maxfun</th>\n",
       "      <th>meandom</th>\n",
       "      <th>mindom</th>\n",
       "      <th>maxdom</th>\n",
       "      <th>modindx</th>\n",
       "      <th>label</th>\n",
       "    </tr>\n",
       "  </thead>\n",
       "  <tbody>\n",
       "    <tr>\n",
       "      <th>0</th>\n",
       "      <td>0.059781</td>\n",
       "      <td>0.064241</td>\n",
       "      <td>0.032027</td>\n",
       "      <td>0.015071</td>\n",
       "      <td>0.090193</td>\n",
       "      <td>0.075122</td>\n",
       "      <td>12.863462</td>\n",
       "      <td>0.893369</td>\n",
       "      <td>0.491918</td>\n",
       "      <td>0.000000</td>\n",
       "      <td>0.084279</td>\n",
       "      <td>0.015702</td>\n",
       "      <td>0.275862</td>\n",
       "      <td>0.007812</td>\n",
       "      <td>0.007812</td>\n",
       "      <td>0.007812</td>\n",
       "      <td>0.000000</td>\n",
       "      <td>male</td>\n",
       "    </tr>\n",
       "    <tr>\n",
       "      <th>1</th>\n",
       "      <td>0.066009</td>\n",
       "      <td>0.067310</td>\n",
       "      <td>0.040229</td>\n",
       "      <td>0.019414</td>\n",
       "      <td>0.092666</td>\n",
       "      <td>0.073252</td>\n",
       "      <td>22.423285</td>\n",
       "      <td>0.892193</td>\n",
       "      <td>0.513724</td>\n",
       "      <td>0.000000</td>\n",
       "      <td>0.107937</td>\n",
       "      <td>0.015826</td>\n",
       "      <td>0.250000</td>\n",
       "      <td>0.009014</td>\n",
       "      <td>0.007812</td>\n",
       "      <td>0.054688</td>\n",
       "      <td>0.052632</td>\n",
       "      <td>male</td>\n",
       "    </tr>\n",
       "    <tr>\n",
       "      <th>2</th>\n",
       "      <td>0.077316</td>\n",
       "      <td>0.083829</td>\n",
       "      <td>0.036718</td>\n",
       "      <td>0.008701</td>\n",
       "      <td>0.131908</td>\n",
       "      <td>0.123207</td>\n",
       "      <td>30.757155</td>\n",
       "      <td>0.846389</td>\n",
       "      <td>0.478905</td>\n",
       "      <td>0.000000</td>\n",
       "      <td>0.098706</td>\n",
       "      <td>0.015656</td>\n",
       "      <td>0.271186</td>\n",
       "      <td>0.007990</td>\n",
       "      <td>0.007812</td>\n",
       "      <td>0.015625</td>\n",
       "      <td>0.046512</td>\n",
       "      <td>male</td>\n",
       "    </tr>\n",
       "    <tr>\n",
       "      <th>3</th>\n",
       "      <td>0.151228</td>\n",
       "      <td>0.072111</td>\n",
       "      <td>0.158011</td>\n",
       "      <td>0.096582</td>\n",
       "      <td>0.207955</td>\n",
       "      <td>0.111374</td>\n",
       "      <td>1.232831</td>\n",
       "      <td>0.963322</td>\n",
       "      <td>0.727232</td>\n",
       "      <td>0.083878</td>\n",
       "      <td>0.088965</td>\n",
       "      <td>0.017798</td>\n",
       "      <td>0.250000</td>\n",
       "      <td>0.201497</td>\n",
       "      <td>0.007812</td>\n",
       "      <td>0.562500</td>\n",
       "      <td>0.247119</td>\n",
       "      <td>male</td>\n",
       "    </tr>\n",
       "    <tr>\n",
       "      <th>4</th>\n",
       "      <td>0.135120</td>\n",
       "      <td>0.079146</td>\n",
       "      <td>0.124656</td>\n",
       "      <td>0.078720</td>\n",
       "      <td>0.206045</td>\n",
       "      <td>0.127325</td>\n",
       "      <td>1.101174</td>\n",
       "      <td>0.971955</td>\n",
       "      <td>0.783568</td>\n",
       "      <td>0.104261</td>\n",
       "      <td>0.106398</td>\n",
       "      <td>0.016931</td>\n",
       "      <td>0.266667</td>\n",
       "      <td>0.712812</td>\n",
       "      <td>0.007812</td>\n",
       "      <td>5.484375</td>\n",
       "      <td>0.208274</td>\n",
       "      <td>male</td>\n",
       "    </tr>\n",
       "    <tr>\n",
       "      <th>...</th>\n",
       "      <td>...</td>\n",
       "      <td>...</td>\n",
       "      <td>...</td>\n",
       "      <td>...</td>\n",
       "      <td>...</td>\n",
       "      <td>...</td>\n",
       "      <td>...</td>\n",
       "      <td>...</td>\n",
       "      <td>...</td>\n",
       "      <td>...</td>\n",
       "      <td>...</td>\n",
       "      <td>...</td>\n",
       "      <td>...</td>\n",
       "      <td>...</td>\n",
       "      <td>...</td>\n",
       "      <td>...</td>\n",
       "      <td>...</td>\n",
       "      <td>...</td>\n",
       "    </tr>\n",
       "    <tr>\n",
       "      <th>3163</th>\n",
       "      <td>0.131884</td>\n",
       "      <td>0.084734</td>\n",
       "      <td>0.153707</td>\n",
       "      <td>0.049285</td>\n",
       "      <td>0.201144</td>\n",
       "      <td>0.151859</td>\n",
       "      <td>1.762129</td>\n",
       "      <td>0.962934</td>\n",
       "      <td>0.763182</td>\n",
       "      <td>0.200836</td>\n",
       "      <td>0.182790</td>\n",
       "      <td>0.083770</td>\n",
       "      <td>0.262295</td>\n",
       "      <td>0.832899</td>\n",
       "      <td>0.007812</td>\n",
       "      <td>4.210938</td>\n",
       "      <td>0.161929</td>\n",
       "      <td>female</td>\n",
       "    </tr>\n",
       "    <tr>\n",
       "      <th>3164</th>\n",
       "      <td>0.116221</td>\n",
       "      <td>0.089221</td>\n",
       "      <td>0.076758</td>\n",
       "      <td>0.042718</td>\n",
       "      <td>0.204911</td>\n",
       "      <td>0.162193</td>\n",
       "      <td>0.693730</td>\n",
       "      <td>0.960716</td>\n",
       "      <td>0.709570</td>\n",
       "      <td>0.013683</td>\n",
       "      <td>0.188980</td>\n",
       "      <td>0.034409</td>\n",
       "      <td>0.275862</td>\n",
       "      <td>0.909856</td>\n",
       "      <td>0.039062</td>\n",
       "      <td>3.679688</td>\n",
       "      <td>0.277897</td>\n",
       "      <td>female</td>\n",
       "    </tr>\n",
       "    <tr>\n",
       "      <th>3165</th>\n",
       "      <td>0.142056</td>\n",
       "      <td>0.095798</td>\n",
       "      <td>0.183731</td>\n",
       "      <td>0.033424</td>\n",
       "      <td>0.224360</td>\n",
       "      <td>0.190936</td>\n",
       "      <td>1.876502</td>\n",
       "      <td>0.946854</td>\n",
       "      <td>0.654196</td>\n",
       "      <td>0.008006</td>\n",
       "      <td>0.209918</td>\n",
       "      <td>0.039506</td>\n",
       "      <td>0.275862</td>\n",
       "      <td>0.494271</td>\n",
       "      <td>0.007812</td>\n",
       "      <td>2.937500</td>\n",
       "      <td>0.194759</td>\n",
       "      <td>female</td>\n",
       "    </tr>\n",
       "    <tr>\n",
       "      <th>3166</th>\n",
       "      <td>0.143659</td>\n",
       "      <td>0.090628</td>\n",
       "      <td>0.184976</td>\n",
       "      <td>0.043508</td>\n",
       "      <td>0.219943</td>\n",
       "      <td>0.176435</td>\n",
       "      <td>1.591065</td>\n",
       "      <td>0.950436</td>\n",
       "      <td>0.675470</td>\n",
       "      <td>0.212202</td>\n",
       "      <td>0.172375</td>\n",
       "      <td>0.034483</td>\n",
       "      <td>0.250000</td>\n",
       "      <td>0.791360</td>\n",
       "      <td>0.007812</td>\n",
       "      <td>3.593750</td>\n",
       "      <td>0.311002</td>\n",
       "      <td>female</td>\n",
       "    </tr>\n",
       "    <tr>\n",
       "      <th>3167</th>\n",
       "      <td>0.165509</td>\n",
       "      <td>0.092884</td>\n",
       "      <td>0.183044</td>\n",
       "      <td>0.070072</td>\n",
       "      <td>0.250827</td>\n",
       "      <td>0.180756</td>\n",
       "      <td>1.705029</td>\n",
       "      <td>0.938829</td>\n",
       "      <td>0.601529</td>\n",
       "      <td>0.267702</td>\n",
       "      <td>0.185607</td>\n",
       "      <td>0.062257</td>\n",
       "      <td>0.271186</td>\n",
       "      <td>0.227022</td>\n",
       "      <td>0.007812</td>\n",
       "      <td>0.554688</td>\n",
       "      <td>0.350000</td>\n",
       "      <td>female</td>\n",
       "    </tr>\n",
       "  </tbody>\n",
       "</table>\n",
       "<p>3168 rows × 18 columns</p>\n",
       "</div>"
      ],
      "text/plain": [
       "      meanfreq        sd    median       Q25       Q75       IQR       skew  \\\n",
       "0     0.059781  0.064241  0.032027  0.015071  0.090193  0.075122  12.863462   \n",
       "1     0.066009  0.067310  0.040229  0.019414  0.092666  0.073252  22.423285   \n",
       "2     0.077316  0.083829  0.036718  0.008701  0.131908  0.123207  30.757155   \n",
       "3     0.151228  0.072111  0.158011  0.096582  0.207955  0.111374   1.232831   \n",
       "4     0.135120  0.079146  0.124656  0.078720  0.206045  0.127325   1.101174   \n",
       "...        ...       ...       ...       ...       ...       ...        ...   \n",
       "3163  0.131884  0.084734  0.153707  0.049285  0.201144  0.151859   1.762129   \n",
       "3164  0.116221  0.089221  0.076758  0.042718  0.204911  0.162193   0.693730   \n",
       "3165  0.142056  0.095798  0.183731  0.033424  0.224360  0.190936   1.876502   \n",
       "3166  0.143659  0.090628  0.184976  0.043508  0.219943  0.176435   1.591065   \n",
       "3167  0.165509  0.092884  0.183044  0.070072  0.250827  0.180756   1.705029   \n",
       "\n",
       "        sp.ent       sfm      mode   meanfun    minfun    maxfun   meandom  \\\n",
       "0     0.893369  0.491918  0.000000  0.084279  0.015702  0.275862  0.007812   \n",
       "1     0.892193  0.513724  0.000000  0.107937  0.015826  0.250000  0.009014   \n",
       "2     0.846389  0.478905  0.000000  0.098706  0.015656  0.271186  0.007990   \n",
       "3     0.963322  0.727232  0.083878  0.088965  0.017798  0.250000  0.201497   \n",
       "4     0.971955  0.783568  0.104261  0.106398  0.016931  0.266667  0.712812   \n",
       "...        ...       ...       ...       ...       ...       ...       ...   \n",
       "3163  0.962934  0.763182  0.200836  0.182790  0.083770  0.262295  0.832899   \n",
       "3164  0.960716  0.709570  0.013683  0.188980  0.034409  0.275862  0.909856   \n",
       "3165  0.946854  0.654196  0.008006  0.209918  0.039506  0.275862  0.494271   \n",
       "3166  0.950436  0.675470  0.212202  0.172375  0.034483  0.250000  0.791360   \n",
       "3167  0.938829  0.601529  0.267702  0.185607  0.062257  0.271186  0.227022   \n",
       "\n",
       "        mindom    maxdom   modindx   label  \n",
       "0     0.007812  0.007812  0.000000    male  \n",
       "1     0.007812  0.054688  0.052632    male  \n",
       "2     0.007812  0.015625  0.046512    male  \n",
       "3     0.007812  0.562500  0.247119    male  \n",
       "4     0.007812  5.484375  0.208274    male  \n",
       "...        ...       ...       ...     ...  \n",
       "3163  0.007812  4.210938  0.161929  female  \n",
       "3164  0.039062  3.679688  0.277897  female  \n",
       "3165  0.007812  2.937500  0.194759  female  \n",
       "3166  0.007812  3.593750  0.311002  female  \n",
       "3167  0.007812  0.554688  0.350000  female  \n",
       "\n",
       "[3168 rows x 18 columns]"
      ]
     },
     "execution_count": 4,
     "metadata": {},
     "output_type": "execute_result"
    }
   ],
   "source": [
    "voices_df.drop(columns=['kurt','centroid','dfrange'])"
   ]
  },
  {
   "cell_type": "markdown",
   "metadata": {},
   "source": [
    "Dla zmiennej *skew* zastosowaliśmy transformację logarytmiczyną, ze względu na tak zwany \"długi ogon\"."
   ]
  },
  {
   "cell_type": "code",
   "execution_count": 5,
   "metadata": {},
   "outputs": [],
   "source": [
    "voices_df['skew'] = np.log1p(voices_df['skew'])"
   ]
  },
  {
   "cell_type": "markdown",
   "metadata": {},
   "source": [
    "Dla zmiennej *label* zastosowaliśmy encoding zamieniając zmienną kategoryczną na numeryczną."
   ]
  },
  {
   "cell_type": "code",
   "execution_count": 6,
   "metadata": {},
   "outputs": [],
   "source": [
    "voices_df['label']=voices_df['label'].replace('male',1)\n",
    "voices_df['label']=voices_df['label'].replace('female',0)"
   ]
  },
  {
   "cell_type": "markdown",
   "metadata": {},
   "source": [
    "Na koniec zapisujemy naszą ramke danych do pliku csv w celu wygodniejszej pracy z nią w przyszłości."
   ]
  },
  {
   "cell_type": "code",
   "execution_count": 7,
   "metadata": {},
   "outputs": [],
   "source": [
    "voices_df.to_csv('voices.csv',header=True,index=False)\n",
    "voices_df = pd.read_csv(\"voices.csv\")"
   ]
  },
  {
   "cell_type": "markdown",
   "metadata": {},
   "source": [
    "## Wstępne modele"
   ]
  },
  {
   "cell_type": "markdown",
   "metadata": {},
   "source": [
    "### Stworzenie zbioru treningowego i testowego"
   ]
  },
  {
   "cell_type": "code",
   "execution_count": 8,
   "metadata": {},
   "outputs": [],
   "source": [
    "from sklearn.model_selection import train_test_split\n",
    "X_train, X_test, y_train, y_test = train_test_split(voices_df[voices_df.columns.values[:-1]],voices_df[voices_df.columns.values[-1]],random_state=40,test_size=0.33)"
   ]
  },
  {
   "cell_type": "markdown",
   "metadata": {},
   "source": [
    "Stworzymy trzy modele: regresji logistycznej, k-Nearest Neighbors oraz XGBoost, a następnie porównamy ich wyniki:"
   ]
  },
  {
   "cell_type": "code",
   "execution_count": 9,
   "metadata": {},
   "outputs": [
    {
     "name": "stdout",
     "output_type": "stream",
     "text": [
      "RMSE (model logistyczny): 0.2816911507266523\n",
      "RMSE (model k-Nearest Neighbors): 0.5478970748132446\n",
      "RMSE (model XGBoost): 0.16650725327134974\n"
     ]
    }
   ],
   "source": [
    "from sklearn.linear_model import LogisticRegression\n",
    "from sklearn.neighbors import KNeighborsClassifier\n",
    "from sklearn.metrics import mean_squared_error\n",
    "from xgboost import XGBClassifier\n",
    "\n",
    "lr = LogisticRegression()\n",
    "lr.fit(X_train,y_train)\n",
    "y_hat = lr.predict(X_test)\n",
    "print(\"RMSE (model logistyczny): \" + str(np.sqrt(mean_squared_error(y_test, y_hat))))\n",
    "\n",
    "knn = KNeighborsClassifier()\n",
    "knn.fit(X_train,y_train)\n",
    "y_hat2 = knn.predict(X_test)\n",
    "print(\"RMSE (model k-Nearest Neighbors): \" + str(np.sqrt(mean_squared_error(y_test, y_hat2))))\n",
    "\n",
    "xgb=XGBClassifier(random_state=1,\n",
    "                    learning_rate=0.01,\n",
    "                    booster='gbtree',\n",
    "                    nround = 1000,\n",
    "                    max_depth=4,\n",
    "                    verbosity = 0)\n",
    "xgb.fit(X_train,y_train)\n",
    "y_hat3 = xgb.predict(X_test)\n",
    "print(\"RMSE (model XGBoost): \" + str(np.sqrt(mean_squared_error(y_test, y_hat3))))"
   ]
  },
  {
   "cell_type": "markdown",
   "metadata": {},
   "source": [
    "## Wyznaczenie dokładności modeli"
   ]
  },
  {
   "cell_type": "code",
   "execution_count": 10,
   "metadata": {},
   "outputs": [
    {
     "name": "stdout",
     "output_type": "stream",
     "text": [
      "Accuracy (model logistyczny): 0.9206500956022945\n",
      "Accuracy (model k-Nearest Neighbors): 0.6998087954110899\n",
      "Accuracy (model XGBoost): 0.9722753346080306\n",
      "\n",
      "Macierz pomyłek dla modelu logistycznego:\n",
      "True positive: 435\n",
      "False positive: 60\n",
      "False negative: 23\n",
      "True negative: 528\n",
      "\n",
      "Macierz pomyłek dla modelu k-Nearest Neighbors:\n",
      "True positive: 347\n",
      "False positive: 148\n",
      "False negative: 166\n",
      "True negative: 385\n",
      "\n",
      "Macierz pomyłek dla modelu XGBoost:\n",
      "True positive: 486\n",
      "False positive: 9\n",
      "False negative: 20\n",
      "True negative: 531\n"
     ]
    }
   ],
   "source": [
    "from sklearn.metrics import confusion_matrix\n",
    "from sklearn.metrics import accuracy_score\n",
    "\n",
    "print(\"Accuracy (model logistyczny): \" + str(accuracy_score(y_test, y_hat)))\n",
    "print(\"Accuracy (model k-Nearest Neighbors): \" + str(accuracy_score(y_test, y_hat2)))\n",
    "print(\"Accuracy (model XGBoost): \" + str(accuracy_score(y_test, y_hat3)))\n",
    "print()\n",
    "print(\"Macierz pomyłek dla modelu logistycznego:\")\n",
    "print(\"True positive: \" + str(confusion_matrix(y_test,y_hat)[0][0]))\n",
    "print(\"False positive: \" + str(confusion_matrix(y_test,y_hat)[0][1]))\n",
    "print(\"False negative: \" + str(confusion_matrix(y_test,y_hat)[1][0]))\n",
    "print(\"True negative: \" + str(confusion_matrix(y_test,y_hat)[1][1]))\n",
    "print()\n",
    "print(\"Macierz pomyłek dla modelu k-Nearest Neighbors:\")\n",
    "print(\"True positive: \" + str(confusion_matrix(y_test,y_hat2)[0][0]))\n",
    "print(\"False positive: \" + str(confusion_matrix(y_test,y_hat2)[0][1]))\n",
    "print(\"False negative: \" + str(confusion_matrix(y_test,y_hat2)[1][0]))\n",
    "print(\"True negative: \" + str(confusion_matrix(y_test,y_hat2)[1][1]))\n",
    "print()\n",
    "print(\"Macierz pomyłek dla modelu XGBoost:\")\n",
    "print(\"True positive: \" + str(confusion_matrix(y_test,y_hat3)[0][0]))\n",
    "print(\"False positive: \" + str(confusion_matrix(y_test,y_hat3)[0][1]))\n",
    "print(\"False negative: \" + str(confusion_matrix(y_test,y_hat3)[1][0]))\n",
    "print(\"True negative: \" + str(confusion_matrix(y_test,y_hat3)[1][1]))"
   ]
  },
  {
   "cell_type": "markdown",
   "metadata": {},
   "source": [
    "Co ciekawe model logistyczny w odróżnieniu od pozostałych częsciej identyfikuje kobietę jako mężczyznę niż meżczyznę jako kobiete."
   ]
  },
  {
   "cell_type": "markdown",
   "metadata": {},
   "source": [
    "## Wykres ROC"
   ]
  },
  {
   "cell_type": "code",
   "execution_count": 11,
   "metadata": {},
   "outputs": [
    {
     "data": {
      "image/png": "[encoded data removed]",
      "text/plain": [
       "<Figure size 432x288 with 1 Axes>"
      ]
     },
     "metadata": {
      "needs_background": "light"
     },
     "output_type": "display_data"
    }
   ],
   "source": [
    "from sklearn.metrics import roc_curve\n",
    "y_pred_prob = lr.predict_proba(X_test)[:,1]\n",
    "y_pred_prob2 = knn.predict_proba(X_test)[:,1]\n",
    "y_pred_prob3 = xgb.predict_proba(X_test)[:,1]\n",
    "\n",
    "fpr, tpr, thresholds = roc_curve(y_test,y_pred_prob)\n",
    "fpr2, tpr2, thresholds2 = roc_curve(y_test,y_pred_prob2)\n",
    "fpr3, tpr3, thresholds3 = roc_curve(y_test,y_pred_prob3)\n",
    "plot1, = plt.plot([0, 1], [0, 1], 'k--',label='Plot 1')\n",
    "plot2, = plt.plot(fpr, tpr, label='Plot 2')\n",
    "plot3, = plt.plot(fpr2,tpr2, label='Plot 3')\n",
    "plot4, = plt.plot(fpr3,tpr3, label='Plot 4')\n",
    "plt.xlabel('False Positive Rate')\n",
    "plt.ylabel('True Positive Rate')\n",
    "plt.title('ROC Curve')\n",
    "plt.legend([plot1,plot2,plot3,plot4],['Random classifier','Logistic model','k-Nearest Neighbors','XGBoost'])\n",
    "plt.show()"
   ]
  },
  {
   "cell_type": "markdown",
   "metadata": {},
   "source": [
    "## Wyznaczania pola pod wykresem wykresu ROC"
   ]
  },
  {
   "cell_type": "code",
   "execution_count": 12,
   "metadata": {},
   "outputs": [
    {
     "name": "stdout",
     "output_type": "stream",
     "text": [
      "AUC (model logistyczny): 0.9280793415094686\n",
      "AUC (model k-Nearest Neighbors): 0.7571522851014684\n",
      "AUC (model XGBoost): 0.9947386753194376\n"
     ]
    }
   ],
   "source": [
    "from sklearn.metrics import roc_auc_score\n",
    "from sklearn.model_selection import cross_val_score\n",
    "\n",
    "print(\"AUC (model logistyczny): {}\".format(roc_auc_score(y_test, y_pred_prob)))\n",
    "print(\"AUC (model k-Nearest Neighbors): {}\".format(roc_auc_score(y_test, y_pred_prob2)))\n",
    "print(\"AUC (model XGBoost): {}\".format(roc_auc_score(y_test, y_pred_prob3)))"
   ]
  },
  {
   "cell_type": "markdown",
   "metadata": {},
   "source": [
    "## Kroswalidacja"
   ]
  },
  {
   "cell_type": "markdown",
   "metadata": {},
   "source": [
    "W celu bardziej wiarygodnej weryfikacji, zastosujmy również krosswalidację:"
   ]
  },
  {
   "cell_type": "code",
   "execution_count": 13,
   "metadata": {},
   "outputs": [
    {
     "name": "stdout",
     "output_type": "stream",
     "text": [
      "Średnia wyniku (model logistyczny): 0.8721638781296172\n",
      "Odchylenie standardowe (model logistyczny): 0.08681464562337544\n",
      "Średnia wyniku (model k-Nearest Neighbors): 0.6707533043165754\n",
      "Odchylenie standardowe (model k-Nearest Neighbors): 0.07812348676719197\n",
      "Średnia wyniku (model XGBoost): 0.9681138441879966\n",
      "Odchylenie standardowe (model XGBoost): 0.021642310483901608\n"
     ]
    }
   ],
   "source": [
    "from sklearn.model_selection import cross_val_score\n",
    "from sklearn import svm\n",
    "lr=LogisticRegression()\n",
    "knn=KNeighborsClassifier()\n",
    "xgb=XGBClassifier()\n",
    "scores_log = cross_val_score(lr, voices_df[voices_df.columns.values[:-1]],voices_df[voices_df.columns.values[-1]], cv=10)\n",
    "scores_knn = cross_val_score(knn, voices_df[voices_df.columns.values[:-1]],voices_df[voices_df.columns.values[-1]], cv=10)\n",
    "scores_xgb = cross_val_score(xgb, voices_df[voices_df.columns.values[:-1]],voices_df[voices_df.columns.values[-1]], cv=10)\n",
    "print(f'Średnia wyniku (model logistyczny): {np.mean(scores_log)}')\n",
    "print(f'Odchylenie standardowe (model logistyczny): {np.std(scores_log)}')\n",
    "print(f'Średnia wyniku (model k-Nearest Neighbors): {np.mean(scores_knn)}')\n",
    "print(f'Odchylenie standardowe (model k-Nearest Neighbors): {np.std(scores_knn)}')\n",
    "print(f'Średnia wyniku (model XGBoost): {np.mean(scores_xgb)}')\n",
    "print(f'Odchylenie standardowe (model XGBoost): {np.std(scores_xgb)}')"
   ]
  },
  {
   "cell_type": "code",
   "execution_count": 14,
   "metadata": {},
   "outputs": [
    {
     "data": {
      "image/png": "[encoded data removed]",
      "text/plain": [
       "<Figure size 432x288 with 1 Axes>"
      ]
     },
     "metadata": {
      "needs_background": "light"
     },
     "output_type": "display_data"
    }
   ],
   "source": [
    "sns.distplot(scores_log, label=\"log\")\n",
    "sns.distplot(scores_knn, label=\"knn\")\n",
    "sns.distplot(scores_xgb, label=\"xgbc\")\n",
    "\n",
    "plt.xlim(0.3,1)\n",
    "plt.legend()\n",
    "plt.show()"
   ]
  },
  {
   "cell_type": "markdown",
   "metadata": {},
   "source": [
    "Jak widzimy, model XGBoost zdecydowanie dystansuje pozostałe dwa. Zdecydowanie najsłabiej wypadł model k-Nearest Neighbors."
   ]
  }
 ],
 "metadata": {
  "kernelspec": {
   "display_name": "Python 3",
   "language": "python",
   "name": "python3"
  },
  "language_info": {
   "codemirror_mode": {
    "name": "ipython",
    "version": 3
   },
   "file_extension": ".py",
   "mimetype": "text/x-python",
   "name": "python",
   "nbconvert_exporter": "python",
   "pygments_lexer": "ipython3",
   "version": "3.7.3"
  }
 },
 "nbformat": 4,
 "nbformat_minor": 2
}
